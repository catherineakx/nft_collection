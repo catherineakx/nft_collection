{
 "cells": [
  {
   "cell_type": "markdown",
   "metadata": {},
   "source": [
    "## NFT Creation\n",
    "\n",
    "In this notebook, we will be creating our own NFT images using Python. \n",
    "\n",
    "Reference: https://betterprogramming.pub/create-your-own-nft-collection-with-python-82af40abf99f"
   ]
  },
  {
   "cell_type": "code",
   "execution_count": 1,
   "metadata": {},
   "outputs": [],
   "source": [
    "# import packages\n",
    "from PIL import Image \n",
    "from IPython.display import display \n",
    "import random\n",
    "import json\n",
    "import os"
   ]
  },
  {
   "cell_type": "code",
   "execution_count": 2,
   "metadata": {},
   "outputs": [],
   "source": [
    "# unzip the downloaded folder\n",
    "from zipfile import ZipFile\n",
    "zf = ZipFile('../datasets/substrapunks-master.zip', 'r')\n",
    "zf.extractall('../datasets/target')\n",
    "zf.close()"
   ]
  },
  {
   "cell_type": "markdown",
   "metadata": {},
   "source": [
    "### Identifying characteristics\n",
    "\n",
    "As each image comprises a series of traits (i.e. face, ears, eyes, hair, mouth), we will use the weightages to derive each trait (and its rarity) that add up to 100%."
   ]
  },
  {
   "cell_type": "code",
   "execution_count": 3,
   "metadata": {},
   "outputs": [],
   "source": [
    "# define traits\n",
    "# will distribute the weightages proportionally\n",
    "\n",
    "face = ['White', 'Black']\n",
    "face_weights = [50,50]\n",
    "\n",
    "ears = ['No Earring', 'Left Earring', 'Right Earring', 'Two Earrings']\n",
    "ear_weights = [25,25,25,25]\n",
    "\n",
    "eyes = ['Regular', 'Small', 'Rayban', 'Hipster', 'Focused']\n",
    "eyes_weights = [20,20,20,20,20]\n",
    "\n",
    "hair = ['Up Hair', 'Down Hair', 'Mohawk', 'Red Mohawk', 'Orange Hair', 'Bubble Hair', 'Emo Hair', 'Thin Hair', 'Bald',\n",
    "        'Blonde Hair', 'Caret Hair', 'Pony Tails']\n",
    "hair_weights = [8,8,8,8,8,8,8,8,8,8,8,12]\n",
    "\n",
    "mouth = ['Black Lipstick', 'Red Lipstick', 'Big Smile', 'Smile', 'Teeth Smile', 'Purple Lipstick']\n",
    "mouth_weights = [15,15,15,15,15,25]\n",
    "\n",
    "nose = ['Nose', 'Nose Ring']\n",
    "nose_weights = [50,50]"
   ]
  },
  {
   "cell_type": "code",
   "execution_count": 4,
   "metadata": {},
   "outputs": [],
   "source": [
    "# redirect trait names to file names\n",
    "# pack in a dictionary\n",
    "\n",
    "face_files = {\n",
    "    'White': 'face1',\n",
    "    'Black': 'face2'\n",
    "}\n",
    "\n",
    "ears_files = {\n",
    "    'No Earring': 'ears1',\n",
    "    'Left Earring': 'ears2',\n",
    "    'Right Earring': 'ears3',\n",
    "    'Two Earrings': 'ears4'\n",
    "}\n",
    "\n",
    "eyes_files = {\n",
    "    'Regular': 'eyes1',\n",
    "    'Small': 'eyes2',\n",
    "    'Rayban': 'eyes3',\n",
    "    'Hipster': 'eyes4',\n",
    "    'Focused': 'eyes5'\n",
    "}\n",
    "\n",
    "hair_files = {\n",
    "    'Up Hair': 'hair1',\n",
    "    'Down Hair': 'hair2',\n",
    "    'Mohawk': 'hair3',\n",
    "    'Red Mohawk': 'hair4', \n",
    "    'Orange Hair': 'hair5',\n",
    "    'Bubble Hair': 'hair6',\n",
    "    'Emo Hair': 'hair7',\n",
    "    'Thin Hair': 'hair8', \n",
    "    'Bald': 'hair9',\n",
    "    'Blonde Hair': 'hair10', \n",
    "    'Caret Hair': 'hair11', \n",
    "    'Pony Tails': 'hair12'\n",
    "}\n",
    "\n",
    "mouth_files = {\n",
    "    'Black Lipstick': 'm1',\n",
    "    'Red Lipstick': 'm2',\n",
    "    'Big Smile': 'm3',\n",
    "    'Smile': 'm4',\n",
    "    'Teeth Smile': 'm5',\n",
    "    'Purple Lipstick': 'm6'\n",
    "}\n",
    "\n",
    "nose_files = {\n",
    "    'Nose': 'n1', \n",
    "    'Nose Ring': 'n2'\n",
    "}"
   ]
  },
  {
   "cell_type": "code",
   "execution_count": 7,
   "metadata": {},
   "outputs": [],
   "source": [
    "# define image traits\n",
    "\n",
    "# identify no. of random unique images to be generated\n",
    "total_images = 100\n",
    "\n",
    "# create empty list for all images\n",
    "all_images = []\n",
    "\n",
    "# define a function to create unique image combinations\n",
    "def create_new_image():\n",
    "    \n",
    "    new_image = {}\n",
    "    \n",
    "    # select a random trait based on the weightings, for each trait category \n",
    "    new_image['Face'] = random.choices(face, face_weights)[0]\n",
    "    new_image['Ears'] = random.choices(ears, ear_weights)[0]\n",
    "    new_image['Eyes'] = random.choices(eyes, eyes_weights)[0]\n",
    "    new_image['Hair'] = random.choices(hair, hair_weights)[0]\n",
    "    new_image['Mouth'] = random.choices(mouth, mouth_weights)[0]\n",
    "    new_image['Nose'] = random.choices(nose, nose_weights)[0]\n",
    "    \n",
    "    if new_image in all_images:\n",
    "        return create_new_image()\n",
    "    else:\n",
    "        return new_image\n",
    "\n",
    "# generate the unique combinations based on trait weightings\n",
    "for i in range(total_images):\n",
    "    new_trait_image = create_new_image()\n",
    "    all_images.append(new_trait_image)"
   ]
  },
  {
   "cell_type": "code",
   "execution_count": 9,
   "metadata": {
    "scrolled": true
   },
   "outputs": [
    {
     "name": "stdout",
     "output_type": "stream",
     "text": [
      "Are all images unique? True\n",
      "[{'Face': 'White', 'Ears': 'Left Earring', 'Eyes': 'Focused', 'Hair': 'Pony Tails', 'Mouth': 'Big Smile', 'Nose': 'Nose', 'tokenId': 0}, {'Face': 'White', 'Ears': 'Right Earring', 'Eyes': 'Rayban', 'Hair': 'Emo Hair', 'Mouth': 'Smile', 'Nose': 'Nose Ring', 'tokenId': 1}, {'Face': 'White', 'Ears': 'No Earring', 'Eyes': 'Small', 'Hair': 'Mohawk', 'Mouth': 'Red Lipstick', 'Nose': 'Nose Ring', 'tokenId': 2}, {'Face': 'Black', 'Ears': 'Left Earring', 'Eyes': 'Hipster', 'Hair': 'Bald', 'Mouth': 'Smile', 'Nose': 'Nose', 'tokenId': 3}, {'Face': 'White', 'Ears': 'Left Earring', 'Eyes': 'Hipster', 'Hair': 'Caret Hair', 'Mouth': 'Smile', 'Nose': 'Nose Ring', 'tokenId': 4}, {'Face': 'White', 'Ears': 'No Earring', 'Eyes': 'Small', 'Hair': 'Mohawk', 'Mouth': 'Red Lipstick', 'Nose': 'Nose', 'tokenId': 5}, {'Face': 'Black', 'Ears': 'Two Earrings', 'Eyes': 'Regular', 'Hair': 'Up Hair', 'Mouth': 'Purple Lipstick', 'Nose': 'Nose', 'tokenId': 6}, {'Face': 'White', 'Ears': 'Two Earrings', 'Eyes': 'Hipster', 'Hair': 'Pony Tails', 'Mouth': 'Purple Lipstick', 'Nose': 'Nose', 'tokenId': 7}, {'Face': 'Black', 'Ears': 'Right Earring', 'Eyes': 'Focused', 'Hair': 'Blonde Hair', 'Mouth': 'Smile', 'Nose': 'Nose', 'tokenId': 8}, {'Face': 'White', 'Ears': 'Two Earrings', 'Eyes': 'Hipster', 'Hair': 'Orange Hair', 'Mouth': 'Teeth Smile', 'Nose': 'Nose', 'tokenId': 9}, {'Face': 'White', 'Ears': 'Two Earrings', 'Eyes': 'Small', 'Hair': 'Blonde Hair', 'Mouth': 'Big Smile', 'Nose': 'Nose', 'tokenId': 10}, {'Face': 'Black', 'Ears': 'Two Earrings', 'Eyes': 'Small', 'Hair': 'Orange Hair', 'Mouth': 'Teeth Smile', 'Nose': 'Nose', 'tokenId': 11}, {'Face': 'Black', 'Ears': 'Left Earring', 'Eyes': 'Regular', 'Hair': 'Up Hair', 'Mouth': 'Teeth Smile', 'Nose': 'Nose Ring', 'tokenId': 12}, {'Face': 'White', 'Ears': 'Left Earring', 'Eyes': 'Regular', 'Hair': 'Bald', 'Mouth': 'Teeth Smile', 'Nose': 'Nose Ring', 'tokenId': 13}, {'Face': 'Black', 'Ears': 'No Earring', 'Eyes': 'Hipster', 'Hair': 'Orange Hair', 'Mouth': 'Black Lipstick', 'Nose': 'Nose', 'tokenId': 14}, {'Face': 'White', 'Ears': 'Left Earring', 'Eyes': 'Small', 'Hair': 'Pony Tails', 'Mouth': 'Black Lipstick', 'Nose': 'Nose', 'tokenId': 15}, {'Face': 'White', 'Ears': 'No Earring', 'Eyes': 'Regular', 'Hair': 'Emo Hair', 'Mouth': 'Purple Lipstick', 'Nose': 'Nose', 'tokenId': 16}, {'Face': 'Black', 'Ears': 'Left Earring', 'Eyes': 'Focused', 'Hair': 'Red Mohawk', 'Mouth': 'Big Smile', 'Nose': 'Nose', 'tokenId': 17}, {'Face': 'Black', 'Ears': 'Left Earring', 'Eyes': 'Focused', 'Hair': 'Blonde Hair', 'Mouth': 'Teeth Smile', 'Nose': 'Nose', 'tokenId': 18}, {'Face': 'Black', 'Ears': 'Two Earrings', 'Eyes': 'Small', 'Hair': 'Bald', 'Mouth': 'Red Lipstick', 'Nose': 'Nose', 'tokenId': 19}, {'Face': 'White', 'Ears': 'Right Earring', 'Eyes': 'Hipster', 'Hair': 'Blonde Hair', 'Mouth': 'Big Smile', 'Nose': 'Nose', 'tokenId': 20}, {'Face': 'Black', 'Ears': 'Two Earrings', 'Eyes': 'Regular', 'Hair': 'Mohawk', 'Mouth': 'Big Smile', 'Nose': 'Nose Ring', 'tokenId': 21}, {'Face': 'White', 'Ears': 'No Earring', 'Eyes': 'Small', 'Hair': 'Emo Hair', 'Mouth': 'Black Lipstick', 'Nose': 'Nose Ring', 'tokenId': 22}, {'Face': 'Black', 'Ears': 'Right Earring', 'Eyes': 'Small', 'Hair': 'Up Hair', 'Mouth': 'Black Lipstick', 'Nose': 'Nose Ring', 'tokenId': 23}, {'Face': 'White', 'Ears': 'Left Earring', 'Eyes': 'Small', 'Hair': 'Pony Tails', 'Mouth': 'Smile', 'Nose': 'Nose Ring', 'tokenId': 24}, {'Face': 'White', 'Ears': 'Two Earrings', 'Eyes': 'Regular', 'Hair': 'Bubble Hair', 'Mouth': 'Big Smile', 'Nose': 'Nose', 'tokenId': 25}, {'Face': 'White', 'Ears': 'No Earring', 'Eyes': 'Small', 'Hair': 'Bald', 'Mouth': 'Smile', 'Nose': 'Nose', 'tokenId': 26}, {'Face': 'Black', 'Ears': 'No Earring', 'Eyes': 'Hipster', 'Hair': 'Emo Hair', 'Mouth': 'Black Lipstick', 'Nose': 'Nose Ring', 'tokenId': 27}, {'Face': 'White', 'Ears': 'Left Earring', 'Eyes': 'Small', 'Hair': 'Blonde Hair', 'Mouth': 'Big Smile', 'Nose': 'Nose', 'tokenId': 28}, {'Face': 'Black', 'Ears': 'Two Earrings', 'Eyes': 'Focused', 'Hair': 'Emo Hair', 'Mouth': 'Purple Lipstick', 'Nose': 'Nose Ring', 'tokenId': 29}, {'Face': 'White', 'Ears': 'Two Earrings', 'Eyes': 'Focused', 'Hair': 'Emo Hair', 'Mouth': 'Smile', 'Nose': 'Nose', 'tokenId': 30}, {'Face': 'Black', 'Ears': 'Left Earring', 'Eyes': 'Hipster', 'Hair': 'Pony Tails', 'Mouth': 'Purple Lipstick', 'Nose': 'Nose', 'tokenId': 31}, {'Face': 'Black', 'Ears': 'Left Earring', 'Eyes': 'Regular', 'Hair': 'Pony Tails', 'Mouth': 'Purple Lipstick', 'Nose': 'Nose Ring', 'tokenId': 32}, {'Face': 'Black', 'Ears': 'No Earring', 'Eyes': 'Regular', 'Hair': 'Bald', 'Mouth': 'Black Lipstick', 'Nose': 'Nose Ring', 'tokenId': 33}, {'Face': 'White', 'Ears': 'Left Earring', 'Eyes': 'Rayban', 'Hair': 'Blonde Hair', 'Mouth': 'Teeth Smile', 'Nose': 'Nose', 'tokenId': 34}, {'Face': 'Black', 'Ears': 'Right Earring', 'Eyes': 'Regular', 'Hair': 'Blonde Hair', 'Mouth': 'Red Lipstick', 'Nose': 'Nose Ring', 'tokenId': 35}, {'Face': 'Black', 'Ears': 'Left Earring', 'Eyes': 'Hipster', 'Hair': 'Blonde Hair', 'Mouth': 'Red Lipstick', 'Nose': 'Nose', 'tokenId': 36}, {'Face': 'Black', 'Ears': 'Left Earring', 'Eyes': 'Focused', 'Hair': 'Thin Hair', 'Mouth': 'Smile', 'Nose': 'Nose Ring', 'tokenId': 37}, {'Face': 'White', 'Ears': 'Two Earrings', 'Eyes': 'Hipster', 'Hair': 'Pony Tails', 'Mouth': 'Teeth Smile', 'Nose': 'Nose Ring', 'tokenId': 38}, {'Face': 'White', 'Ears': 'Two Earrings', 'Eyes': 'Rayban', 'Hair': 'Pony Tails', 'Mouth': 'Purple Lipstick', 'Nose': 'Nose', 'tokenId': 39}, {'Face': 'White', 'Ears': 'No Earring', 'Eyes': 'Small', 'Hair': 'Down Hair', 'Mouth': 'Big Smile', 'Nose': 'Nose', 'tokenId': 40}, {'Face': 'Black', 'Ears': 'No Earring', 'Eyes': 'Regular', 'Hair': 'Bubble Hair', 'Mouth': 'Black Lipstick', 'Nose': 'Nose', 'tokenId': 41}, {'Face': 'White', 'Ears': 'Two Earrings', 'Eyes': 'Hipster', 'Hair': 'Pony Tails', 'Mouth': 'Red Lipstick', 'Nose': 'Nose Ring', 'tokenId': 42}, {'Face': 'Black', 'Ears': 'No Earring', 'Eyes': 'Regular', 'Hair': 'Red Mohawk', 'Mouth': 'Smile', 'Nose': 'Nose Ring', 'tokenId': 43}, {'Face': 'Black', 'Ears': 'No Earring', 'Eyes': 'Small', 'Hair': 'Emo Hair', 'Mouth': 'Red Lipstick', 'Nose': 'Nose', 'tokenId': 44}, {'Face': 'White', 'Ears': 'No Earring', 'Eyes': 'Focused', 'Hair': 'Up Hair', 'Mouth': 'Black Lipstick', 'Nose': 'Nose', 'tokenId': 45}, {'Face': 'Black', 'Ears': 'Left Earring', 'Eyes': 'Hipster', 'Hair': 'Blonde Hair', 'Mouth': 'Smile', 'Nose': 'Nose Ring', 'tokenId': 46}, {'Face': 'Black', 'Ears': 'Two Earrings', 'Eyes': 'Small', 'Hair': 'Mohawk', 'Mouth': 'Smile', 'Nose': 'Nose', 'tokenId': 47}, {'Face': 'White', 'Ears': 'No Earring', 'Eyes': 'Focused', 'Hair': 'Emo Hair', 'Mouth': 'Black Lipstick', 'Nose': 'Nose', 'tokenId': 48}, {'Face': 'Black', 'Ears': 'Right Earring', 'Eyes': 'Rayban', 'Hair': 'Caret Hair', 'Mouth': 'Big Smile', 'Nose': 'Nose', 'tokenId': 49}, {'Face': 'Black', 'Ears': 'Left Earring', 'Eyes': 'Focused', 'Hair': 'Bubble Hair', 'Mouth': 'Purple Lipstick', 'Nose': 'Nose Ring', 'tokenId': 50}, {'Face': 'White', 'Ears': 'Two Earrings', 'Eyes': 'Regular', 'Hair': 'Blonde Hair', 'Mouth': 'Black Lipstick', 'Nose': 'Nose', 'tokenId': 51}, {'Face': 'Black', 'Ears': 'Two Earrings', 'Eyes': 'Rayban', 'Hair': 'Pony Tails', 'Mouth': 'Purple Lipstick', 'Nose': 'Nose Ring', 'tokenId': 52}, {'Face': 'Black', 'Ears': 'No Earring', 'Eyes': 'Small', 'Hair': 'Thin Hair', 'Mouth': 'Black Lipstick', 'Nose': 'Nose Ring', 'tokenId': 53}, {'Face': 'White', 'Ears': 'Two Earrings', 'Eyes': 'Regular', 'Hair': 'Down Hair', 'Mouth': 'Big Smile', 'Nose': 'Nose Ring', 'tokenId': 54}, {'Face': 'White', 'Ears': 'Two Earrings', 'Eyes': 'Small', 'Hair': 'Red Mohawk', 'Mouth': 'Big Smile', 'Nose': 'Nose Ring', 'tokenId': 55}, {'Face': 'White', 'Ears': 'No Earring', 'Eyes': 'Hipster', 'Hair': 'Down Hair', 'Mouth': 'Purple Lipstick', 'Nose': 'Nose', 'tokenId': 56}, {'Face': 'White', 'Ears': 'Two Earrings', 'Eyes': 'Hipster', 'Hair': 'Down Hair', 'Mouth': 'Big Smile', 'Nose': 'Nose', 'tokenId': 57}, {'Face': 'Black', 'Ears': 'Two Earrings', 'Eyes': 'Small', 'Hair': 'Bubble Hair', 'Mouth': 'Black Lipstick', 'Nose': 'Nose Ring', 'tokenId': 58}, {'Face': 'White', 'Ears': 'No Earring', 'Eyes': 'Hipster', 'Hair': 'Red Mohawk', 'Mouth': 'Smile', 'Nose': 'Nose', 'tokenId': 59}, {'Face': 'White', 'Ears': 'Right Earring', 'Eyes': 'Rayban', 'Hair': 'Pony Tails', 'Mouth': 'Smile', 'Nose': 'Nose Ring', 'tokenId': 60}, {'Face': 'Black', 'Ears': 'Two Earrings', 'Eyes': 'Focused', 'Hair': 'Up Hair', 'Mouth': 'Purple Lipstick', 'Nose': 'Nose', 'tokenId': 61}, {'Face': 'White', 'Ears': 'Right Earring', 'Eyes': 'Regular', 'Hair': 'Up Hair', 'Mouth': 'Purple Lipstick', 'Nose': 'Nose', 'tokenId': 62}, {'Face': 'White', 'Ears': 'Left Earring', 'Eyes': 'Rayban', 'Hair': 'Orange Hair', 'Mouth': 'Purple Lipstick', 'Nose': 'Nose', 'tokenId': 63}, {'Face': 'White', 'Ears': 'Two Earrings', 'Eyes': 'Rayban', 'Hair': 'Down Hair', 'Mouth': 'Smile', 'Nose': 'Nose Ring', 'tokenId': 64}, {'Face': 'White', 'Ears': 'Left Earring', 'Eyes': 'Small', 'Hair': 'Down Hair', 'Mouth': 'Purple Lipstick', 'Nose': 'Nose', 'tokenId': 65}, {'Face': 'White', 'Ears': 'Right Earring', 'Eyes': 'Regular', 'Hair': 'Red Mohawk', 'Mouth': 'Red Lipstick', 'Nose': 'Nose Ring', 'tokenId': 66}, {'Face': 'White', 'Ears': 'Right Earring', 'Eyes': 'Hipster', 'Hair': 'Emo Hair', 'Mouth': 'Purple Lipstick', 'Nose': 'Nose Ring', 'tokenId': 67}, {'Face': 'White', 'Ears': 'Right Earring', 'Eyes': 'Hipster', 'Hair': 'Caret Hair', 'Mouth': 'Big Smile', 'Nose': 'Nose Ring', 'tokenId': 68}, {'Face': 'White', 'Ears': 'Left Earring', 'Eyes': 'Rayban', 'Hair': 'Caret Hair', 'Mouth': 'Big Smile', 'Nose': 'Nose Ring', 'tokenId': 69}, {'Face': 'White', 'Ears': 'Two Earrings', 'Eyes': 'Rayban', 'Hair': 'Mohawk', 'Mouth': 'Purple Lipstick', 'Nose': 'Nose', 'tokenId': 70}, {'Face': 'White', 'Ears': 'Left Earring', 'Eyes': 'Regular', 'Hair': 'Orange Hair', 'Mouth': 'Purple Lipstick', 'Nose': 'Nose', 'tokenId': 71}, {'Face': 'White', 'Ears': 'Left Earring', 'Eyes': 'Small', 'Hair': 'Orange Hair', 'Mouth': 'Black Lipstick', 'Nose': 'Nose', 'tokenId': 72}, {'Face': 'White', 'Ears': 'Left Earring', 'Eyes': 'Focused', 'Hair': 'Down Hair', 'Mouth': 'Purple Lipstick', 'Nose': 'Nose Ring', 'tokenId': 73}, {'Face': 'Black', 'Ears': 'Two Earrings', 'Eyes': 'Regular', 'Hair': 'Emo Hair', 'Mouth': 'Smile', 'Nose': 'Nose Ring', 'tokenId': 74}, {'Face': 'Black', 'Ears': 'Two Earrings', 'Eyes': 'Rayban', 'Hair': 'Bubble Hair', 'Mouth': 'Teeth Smile', 'Nose': 'Nose', 'tokenId': 75}, {'Face': 'Black', 'Ears': 'Left Earring', 'Eyes': 'Rayban', 'Hair': 'Thin Hair', 'Mouth': 'Teeth Smile', 'Nose': 'Nose', 'tokenId': 76}, {'Face': 'White', 'Ears': 'Left Earring', 'Eyes': 'Hipster', 'Hair': 'Pony Tails', 'Mouth': 'Smile', 'Nose': 'Nose', 'tokenId': 77}, {'Face': 'Black', 'Ears': 'Right Earring', 'Eyes': 'Rayban', 'Hair': 'Emo Hair', 'Mouth': 'Black Lipstick', 'Nose': 'Nose', 'tokenId': 78}, {'Face': 'White', 'Ears': 'Right Earring', 'Eyes': 'Small', 'Hair': 'Pony Tails', 'Mouth': 'Smile', 'Nose': 'Nose', 'tokenId': 79}, {'Face': 'Black', 'Ears': 'Right Earring', 'Eyes': 'Small', 'Hair': 'Blonde Hair', 'Mouth': 'Purple Lipstick', 'Nose': 'Nose Ring', 'tokenId': 80}, {'Face': 'Black', 'Ears': 'Right Earring', 'Eyes': 'Rayban', 'Hair': 'Pony Tails', 'Mouth': 'Purple Lipstick', 'Nose': 'Nose Ring', 'tokenId': 81}, {'Face': 'Black', 'Ears': 'No Earring', 'Eyes': 'Hipster', 'Hair': 'Caret Hair', 'Mouth': 'Black Lipstick', 'Nose': 'Nose Ring', 'tokenId': 82}, {'Face': 'White', 'Ears': 'Right Earring', 'Eyes': 'Focused', 'Hair': 'Red Mohawk', 'Mouth': 'Purple Lipstick', 'Nose': 'Nose', 'tokenId': 83}, {'Face': 'White', 'Ears': 'Two Earrings', 'Eyes': 'Focused', 'Hair': 'Pony Tails', 'Mouth': 'Red Lipstick', 'Nose': 'Nose', 'tokenId': 84}, {'Face': 'White', 'Ears': 'No Earring', 'Eyes': 'Rayban', 'Hair': 'Bald', 'Mouth': 'Teeth Smile', 'Nose': 'Nose', 'tokenId': 85}, {'Face': 'Black', 'Ears': 'No Earring', 'Eyes': 'Focused', 'Hair': 'Bald', 'Mouth': 'Black Lipstick', 'Nose': 'Nose Ring', 'tokenId': 86}, {'Face': 'Black', 'Ears': 'Left Earring', 'Eyes': 'Focused', 'Hair': 'Emo Hair', 'Mouth': 'Teeth Smile', 'Nose': 'Nose Ring', 'tokenId': 87}, {'Face': 'White', 'Ears': 'Right Earring', 'Eyes': 'Regular', 'Hair': 'Emo Hair', 'Mouth': 'Black Lipstick', 'Nose': 'Nose Ring', 'tokenId': 88}, {'Face': 'White', 'Ears': 'No Earring', 'Eyes': 'Rayban', 'Hair': 'Pony Tails', 'Mouth': 'Smile', 'Nose': 'Nose', 'tokenId': 89}, {'Face': 'White', 'Ears': 'Left Earring', 'Eyes': 'Regular', 'Hair': 'Emo Hair', 'Mouth': 'Smile', 'Nose': 'Nose Ring', 'tokenId': 90}, {'Face': 'Black', 'Ears': 'Two Earrings', 'Eyes': 'Small', 'Hair': 'Orange Hair', 'Mouth': 'Smile', 'Nose': 'Nose Ring', 'tokenId': 91}, {'Face': 'White', 'Ears': 'Left Earring', 'Eyes': 'Focused', 'Hair': 'Blonde Hair', 'Mouth': 'Teeth Smile', 'Nose': 'Nose Ring', 'tokenId': 92}, {'Face': 'White', 'Ears': 'Two Earrings', 'Eyes': 'Hipster', 'Hair': 'Blonde Hair', 'Mouth': 'Big Smile', 'Nose': 'Nose Ring', 'tokenId': 93}, {'Face': 'Black', 'Ears': 'Two Earrings', 'Eyes': 'Focused', 'Hair': 'Caret Hair', 'Mouth': 'Red Lipstick', 'Nose': 'Nose', 'tokenId': 94}, {'Face': 'White', 'Ears': 'Left Earring', 'Eyes': 'Hipster', 'Hair': 'Blonde Hair', 'Mouth': 'Smile', 'Nose': 'Nose Ring', 'tokenId': 95}, {'Face': 'Black', 'Ears': 'No Earring', 'Eyes': 'Focused', 'Hair': 'Bald', 'Mouth': 'Purple Lipstick', 'Nose': 'Nose Ring', 'tokenId': 96}, {'Face': 'Black', 'Ears': 'Left Earring', 'Eyes': 'Rayban', 'Hair': 'Pony Tails', 'Mouth': 'Black Lipstick', 'Nose': 'Nose Ring', 'tokenId': 97}, {'Face': 'White', 'Ears': 'Two Earrings', 'Eyes': 'Focused', 'Hair': 'Caret Hair', 'Mouth': 'Purple Lipstick', 'Nose': 'Nose Ring', 'tokenId': 98}, {'Face': 'Black', 'Ears': 'Two Earrings', 'Eyes': 'Focused', 'Hair': 'Red Mohawk', 'Mouth': 'Teeth Smile', 'Nose': 'Nose', 'tokenId': 99}]\n"
     ]
    }
   ],
   "source": [
    "# create a function to check if all images are unique\n",
    "def all_images_unique(all_images):\n",
    "    seen = list()\n",
    "    return not any(i in seen or seen.append(i) for i in all_images)\n",
    "\n",
    "print('Are all images unique?', all_images_unique(all_images))\n",
    "\n",
    "# add token id to each image\n",
    "i = 0\n",
    "for item in all_images:\n",
    "    item['tokenId'] = i\n",
    "    i = i+1\n",
    "    \n",
    "print(all_images)"
   ]
  },
  {
   "cell_type": "code",
   "execution_count": 11,
   "metadata": {},
   "outputs": [
    {
     "data": {
      "text/plain": [
       "{'White': 0, 'Black': 0}"
      ]
     },
     "execution_count": 11,
     "metadata": {},
     "output_type": "execute_result"
    }
   ],
   "source": [
    "# define a dictionary for each trait with their respective classifications\n",
    "face_count = {}\n",
    "for item in face: \n",
    "    face_count[item] = 0\n",
    "\n",
    "face_count"
   ]
  },
  {
   "cell_type": "code",
   "execution_count": 12,
   "metadata": {
    "scrolled": true
   },
   "outputs": [
    {
     "name": "stdout",
     "output_type": "stream",
     "text": [
      "{'White': 56, 'Black': 44}\n",
      "{'No Earring': 22, 'Left Earring': 30, 'Right Earring': 17, 'Two Earrings': 31}\n",
      "{'Regular': 19, 'Small': 22, 'Rayban': 17, 'Hipster': 21, 'Focused': 21}\n",
      "{'Up Hair': 6, 'Down Hair': 7, 'Mohawk': 5, 'Red Mohawk': 7, 'Orange Hair': 7, 'Bubble Hair': 5, 'Emo Hair': 14, 'Thin Hair': 3, 'Bald': 8, 'Blonde Hair': 14, 'Caret Hair': 7, 'Pony Tails': 17}\n",
      "{'Black Lipstick': 18, 'Red Lipstick': 10, 'Big Smile': 15, 'Smile': 21, 'Teeth Smile': 13, 'Purple Lipstick': 23}\n",
      "{'Nose': 53, 'Nose Ring': 47}\n"
     ]
    }
   ],
   "source": [
    "# loop over the created images and add to the respective trait dictionary upon coming across the trait\n",
    "\n",
    "face_count = {}\n",
    "for item in face: \n",
    "    face_count[item] = 0\n",
    "\n",
    "ears_count = {}\n",
    "for item in ears: \n",
    "    ears_count[item] = 0\n",
    "    \n",
    "eyes_count = {}\n",
    "for item in eyes: \n",
    "    eyes_count[item] = 0\n",
    "    \n",
    "hair_count = {}\n",
    "for item in hair: \n",
    "    hair_count[item] = 0\n",
    "    \n",
    "mouth_count = {}\n",
    "for item in mouth: \n",
    "    mouth_count[item] = 0\n",
    "    \n",
    "nose_count = {}\n",
    "for item in nose: \n",
    "    nose_count[item] = 0\n",
    "    \n",
    "for image in all_images:\n",
    "    face_count[image['Face']] += 1\n",
    "    ears_count[image['Ears']] += 1\n",
    "    eyes_count[image['Eyes']] += 1\n",
    "    hair_count[image['Hair']] += 1\n",
    "    mouth_count[image['Mouth']] += 1\n",
    "    nose_count[image['Nose']] += 1\n",
    "    \n",
    "print(face_count)\n",
    "print(ears_count)\n",
    "print(eyes_count)\n",
    "print(hair_count)\n",
    "print(mouth_count)\n",
    "print(nose_count)"
   ]
  },
  {
   "cell_type": "markdown",
   "metadata": {},
   "source": [
    "### Generating images\n",
    "\n",
    "Upon assigning the weightages to each trait, let's proceed to generate the images. "
   ]
  },
  {
   "cell_type": "code",
   "execution_count": 15,
   "metadata": {
    "scrolled": false
   },
   "outputs": [
    {
     "data": {
      "text/plain": [
       "{'Face': 'White',\n",
       " 'Ears': 'Right Earring',\n",
       " 'Eyes': 'Rayban',\n",
       " 'Hair': 'Emo Hair',\n",
       " 'Mouth': 'Smile',\n",
       " 'Nose': 'Nose Ring',\n",
       " 'tokenId': 1}"
      ]
     },
     "execution_count": 15,
     "metadata": {},
     "output_type": "execute_result"
    }
   ],
   "source": [
    "# view a sample of the image\n",
    "all_images[1]"
   ]
  },
  {
   "cell_type": "code",
   "execution_count": 26,
   "metadata": {},
   "outputs": [],
   "source": [
    "# create a new folder for images \n",
    "os.mkdir(f'../datasets/target/substrapunks-master/images')"
   ]
  },
  {
   "cell_type": "code",
   "execution_count": 27,
   "metadata": {},
   "outputs": [],
   "source": [
    "# generate images \n",
    "\n",
    "# identify location of trait images\n",
    "for item in all_images:\n",
    "    im1 = Image.open(f'../datasets/target/substrapunks-master/scripts/face_parts/face/{face_files[item[\"Face\"]]}.png').convert('RGBA')\n",
    "    im2 = Image.open(f'../datasets/target/substrapunks-master/scripts/face_parts/eyes/{eyes_files[item[\"Eyes\"]]}.png').convert('RGBA')\n",
    "    im3 = Image.open(f'../datasets/target/substrapunks-master/scripts/face_parts/ears/{ears_files[item[\"Ears\"]]}.png').convert('RGBA')\n",
    "    im4 = Image.open(f'../datasets/target/substrapunks-master/scripts/face_parts/hair/{hair_files[item[\"Hair\"]]}.png').convert('RGBA')\n",
    "    im5 = Image.open(f'../datasets/target/substrapunks-master/scripts/face_parts/mouth/{mouth_files[item[\"Mouth\"]]}.png').convert('RGBA')\n",
    "    im6 = Image.open(f'../datasets/target/substrapunks-master/scripts/face_parts/nose/{nose_files[item[\"Nose\"]]}.png').convert('RGBA')\n",
    "    \n",
    "    # create each composite\n",
    "    com1 = Image.alpha_composite(im1, im2)\n",
    "    com2 = Image.alpha_composite(com1, im3)\n",
    "    com3 = Image.alpha_composite(com2, im4)\n",
    "    com4 = Image.alpha_composite(com3, im5)\n",
    "    com5 = Image.alpha_composite(com4, im6)\n",
    "    \n",
    "    # convert to rgb\n",
    "    rgb_im = com5.convert('RGB')\n",
    "    file_name = str(item['tokenId']) + '.png'\n",
    "    rgb_im.save('../datasets/target/substrapunks-master/images/image' + file_name)"
   ]
  },
  {
   "cell_type": "markdown",
   "metadata": {},
   "source": [
    "There we go - we have generated a total of 100 images!\n",
    "\n",
    "For further exploration, we can create new variation of the traits, or even extend the collection to feature animals. "
   ]
  }
 ],
 "metadata": {
  "kernelspec": {
   "display_name": "Python 3",
   "language": "python",
   "name": "python3"
  },
  "language_info": {
   "codemirror_mode": {
    "name": "ipython",
    "version": 3
   },
   "file_extension": ".py",
   "mimetype": "text/x-python",
   "name": "python",
   "nbconvert_exporter": "python",
   "pygments_lexer": "ipython3",
   "version": "3.8.5"
  }
 },
 "nbformat": 4,
 "nbformat_minor": 4
}
